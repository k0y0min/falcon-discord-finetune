{
 "cells": [
  {
   "cell_type": "code",
   "execution_count": 1,
   "metadata": {},
   "outputs": [],
   "source": [
    "import pandas"
   ]
  },
  {
   "cell_type": "code",
   "execution_count": 2,
   "metadata": {},
   "outputs": [],
   "source": [
    "import os\n",
    "import pandas as pd\n",
    "\n",
    "# Get the current directory\n",
    "current_directory = os.getcwd()\n",
    "\n",
    "# Get all files in the current directory\n",
    "files = os.listdir(current_directory)\n",
    "\n",
    "# Filter CSV files only\n",
    "csv_files = [file for file in files if file.endswith('.csv')]\n",
    "\n",
    "# Initialize an empty DataFrame\n",
    "combined_data = pd.DataFrame()\n",
    "\n",
    "# Concatenate all CSV files into a single DataFrame\n",
    "for file in csv_files:\n",
    "    file_path = os.path.join(current_directory, file)\n",
    "    df = pd.read_csv(file_path)\n",
    "    combined_data = pd.concat([combined_data, df], ignore_index=True)\n"
   ]
  },
  {
   "cell_type": "code",
   "execution_count": 3,
   "metadata": {},
   "outputs": [],
   "source": [
    "data = combined_data[['Author', 'Content']]"
   ]
  },
  {
   "cell_type": "code",
   "execution_count": 4,
   "metadata": {},
   "outputs": [
    {
     "name": "stderr",
     "output_type": "stream",
     "text": [
      "C:\\Users\\dongr\\AppData\\Local\\Temp\\ipykernel_3344\\2240820314.py:2: SettingWithCopyWarning: \n",
      "A value is trying to be set on a copy of a slice from a DataFrame.\n",
      "Try using .loc[row_indexer,col_indexer] = value instead\n",
      "\n",
      "See the caveats in the documentation: https://pandas.pydata.org/pandas-docs/stable/user_guide/indexing.html#returning-a-view-versus-a-copy\n",
      "  data['Content'] = data['Content'].astype(str)\n"
     ]
    }
   ],
   "source": [
    "#typecast content column to string\n",
    "data['Content'] = data['Content'].astype(str)"
   ]
  },
  {
   "cell_type": "code",
   "execution_count": 5,
   "metadata": {},
   "outputs": [],
   "source": [
    "train_data = []"
   ]
  },
  {
   "cell_type": "code",
   "execution_count": 6,
   "metadata": {},
   "outputs": [
    {
     "name": "stdout",
     "output_type": "stream",
     "text": [
      "278148\r"
     ]
    }
   ],
   "source": [
    "obito = []\n",
    "authors = ['Obito', 'koyomin', 'Obito', 'obito5760', 'Oshino Meme', 'Shinobu Oshino', 'Oshino MÃ¨mÃ¨']\n",
    "\n",
    "index = 0\n",
    "while index < len(data):\n",
    "    author = data.iloc[index]['Author']\n",
    "    text = data.iloc[index]['Content']\n",
    "    \n",
    "    if author in authors:\n",
    "        # Record previous messages until an Obito message is encountered or 10 messages have been recorded\n",
    "        obito_messages = []\n",
    "        prev_index = index - 1\n",
    "        count = 0\n",
    "        while prev_index >= 0 and count < 5:\n",
    "            prev_author = data.iloc[prev_index]['Author']\n",
    "            if prev_author in authors:\n",
    "                break\n",
    "            obito_messages.append(f\"'{prev_author}':{data.iloc[prev_index]['Content']}\")\n",
    "            prev_index -= 1\n",
    "            count += 1\n",
    "        \n",
    "        obito_messages.reverse()  # Reverse the order to maintain chronological order\n",
    "        \n",
    "        # Append the encountered Obito's message to 'obito' variable\n",
    "        obito.append(text)\n",
    "        \n",
    "        # Append any immediate next messages by Obito until a different author is encountered\n",
    "        next_index = index + 1\n",
    "        while next_index < len(data) and data.iloc[next_index]['Author'] in authors:\n",
    "            obito.append(data.iloc[next_index]['Content'])\n",
    "            next_index += 1\n",
    "        \n",
    "        # Create a string with the required format\n",
    "        people_text = '; '.join(obito_messages)\n",
    "        obito_text = '; '.join(obito)\n",
    "        entry = f\"People:\\n{people_text}\\n\\nObito:\\n{obito_text}\"\n",
    "        \n",
    "        # Append the entry to the dataset\n",
    "        train_data.append(entry)\n",
    "        \n",
    "        # Update the index to the next message after the last encountered Obito message\n",
    "        index = next_index\n",
    "        # Clear the variables for the next iteration\n",
    "        obito = []\n",
    "    else:\n",
    "        # Append the message to 'people' variable\n",
    "        index += 1\n",
    "    print(index, end='\\r')"
   ]
  },
  {
   "cell_type": "code",
   "execution_count": 7,
   "metadata": {},
   "outputs": [
    {
     "data": {
      "text/plain": [
       "34624"
      ]
     },
     "execution_count": 7,
     "metadata": {},
     "output_type": "execute_result"
    }
   ],
   "source": [
    "len(train_data)"
   ]
  },
  {
   "cell_type": "code",
   "execution_count": 9,
   "metadata": {},
   "outputs": [],
   "source": [
    "pd.DataFrame(train_data).to_csv('train_data.csv', index=False, header=False)"
   ]
  },
  {
   "cell_type": "code",
   "execution_count": null,
   "metadata": {},
   "outputs": [],
   "source": [
    "df = pd.read_csv('train_data.csv', header=None)"
   ]
  },
  {
   "cell_type": "code",
   "execution_count": null,
   "metadata": {},
   "outputs": [],
   "source": []
  }
 ],
 "metadata": {
  "kernelspec": {
   "display_name": "Python 3",
   "language": "python",
   "name": "python3"
  },
  "language_info": {
   "codemirror_mode": {
    "name": "ipython",
    "version": 3
   },
   "file_extension": ".py",
   "mimetype": "text/x-python",
   "name": "python",
   "nbconvert_exporter": "python",
   "pygments_lexer": "ipython3",
   "version": "3.11.0"
  },
  "orig_nbformat": 4
 },
 "nbformat": 4,
 "nbformat_minor": 2
}
